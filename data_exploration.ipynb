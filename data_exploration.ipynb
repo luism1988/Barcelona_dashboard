{
 "cells": [
  {
   "cell_type": "markdown",
   "id": "f49ab96e",
   "metadata": {},
   "source": [
    "# Data exploration:"
   ]
  },
  {
   "cell_type": "markdown",
   "id": "bcdfa705",
   "metadata": {},
   "source": [
    "Objetivo: El objetivo de este fichero es conocer los datos, realizar una lista de todos aquellos graficos que deseo mostrar en el Barcelona_Dashboar."
   ]
  },
  {
   "cell_type": "markdown",
   "id": "ad4dca9d",
   "metadata": {},
   "source": [
    "Lista de posibles graficos a realizar:\n",
    "1-En la pagina principal mostrar: \n",
    "    -un diagrama de barras con los distritos de la ciudad y su población, dar la opción de estratificar por  alguna variable como genero \n",
    "    -Mostrar en el mapa la ubicacion del centro de cada distrito de la ciudad.\n",
    "\n",
    "2-Seleccionar dos distrito para compararlos con la siguiente información:(Creo que seria un diagrama de barras)\n",
    "    -población\n",
    "    -población estratificada por genero\n",
    "    -población por edades\n",
    "    -número de estaciones de bus, tren, metro etc.\n",
    "    -pintar las estaciones de bus en el mapa.\n",
    "    \n",
    "3-Crear un radar_plot, donde se selecciones distintos distritos y que se comparen algunas caracteristicas como:\n",
    "    -nacimientos\n",
    "    -muertes\n",
    "    -accidentes\n",
    "    -expectativa de vida\n",
    "    -calidad de aire\n",
    "    -desempleo\n",
    "    -\n"
   ]
  },
  {
   "cell_type": "markdown",
   "id": "e2295186",
   "metadata": {},
   "source": [
    "# Importacion de la base de datos:\n"
   ]
  },
  {
   "cell_type": "code",
   "execution_count": 12,
   "id": "e477f7be",
   "metadata": {},
   "outputs": [],
   "source": [
    "population = db.population"
   ]
  },
  {
   "cell_type": "code",
   "execution_count": 44,
   "id": "305681c5",
   "metadata": {},
   "outputs": [],
   "source": [
    "import pandas as pd\n",
    "\n",
    "df = pd.read_csv(\"data/population.csv\")"
   ]
  },
  {
   "cell_type": "code",
   "execution_count": 34,
   "id": "c44fd5ca",
   "metadata": {},
   "outputs": [
    {
     "data": {
      "text/html": [
       "<div>\n",
       "<style scoped>\n",
       "    .dataframe tbody tr th:only-of-type {\n",
       "        vertical-align: middle;\n",
       "    }\n",
       "\n",
       "    .dataframe tbody tr th {\n",
       "        vertical-align: top;\n",
       "    }\n",
       "\n",
       "    .dataframe thead th {\n",
       "        text-align: right;\n",
       "    }\n",
       "</style>\n",
       "<table border=\"1\" class=\"dataframe\">\n",
       "  <thead>\n",
       "    <tr style=\"text-align: right;\">\n",
       "      <th></th>\n",
       "      <th>Year</th>\n",
       "      <th>District.Code</th>\n",
       "      <th>District.Name</th>\n",
       "      <th>Neighborhood.Code</th>\n",
       "      <th>Neighborhood.Name</th>\n",
       "      <th>Gender</th>\n",
       "      <th>Age</th>\n",
       "      <th>Number</th>\n",
       "    </tr>\n",
       "  </thead>\n",
       "  <tbody>\n",
       "    <tr>\n",
       "      <th>0</th>\n",
       "      <td>2017</td>\n",
       "      <td>1</td>\n",
       "      <td>Ciutat Vella</td>\n",
       "      <td>1</td>\n",
       "      <td>el Raval</td>\n",
       "      <td>Male</td>\n",
       "      <td>0-4</td>\n",
       "      <td>224</td>\n",
       "    </tr>\n",
       "    <tr>\n",
       "      <th>1</th>\n",
       "      <td>2017</td>\n",
       "      <td>1</td>\n",
       "      <td>Ciutat Vella</td>\n",
       "      <td>2</td>\n",
       "      <td>el Barri Gòtic</td>\n",
       "      <td>Male</td>\n",
       "      <td>0-4</td>\n",
       "      <td>50</td>\n",
       "    </tr>\n",
       "    <tr>\n",
       "      <th>2</th>\n",
       "      <td>2017</td>\n",
       "      <td>1</td>\n",
       "      <td>Ciutat Vella</td>\n",
       "      <td>3</td>\n",
       "      <td>la Barceloneta</td>\n",
       "      <td>Male</td>\n",
       "      <td>0-4</td>\n",
       "      <td>43</td>\n",
       "    </tr>\n",
       "    <tr>\n",
       "      <th>3</th>\n",
       "      <td>2017</td>\n",
       "      <td>1</td>\n",
       "      <td>Ciutat Vella</td>\n",
       "      <td>4</td>\n",
       "      <td>Sant Pere, Santa Caterina i la Ribera</td>\n",
       "      <td>Male</td>\n",
       "      <td>0-4</td>\n",
       "      <td>95</td>\n",
       "    </tr>\n",
       "    <tr>\n",
       "      <th>4</th>\n",
       "      <td>2017</td>\n",
       "      <td>2</td>\n",
       "      <td>Eixample</td>\n",
       "      <td>5</td>\n",
       "      <td>el Fort Pienc</td>\n",
       "      <td>Male</td>\n",
       "      <td>0-4</td>\n",
       "      <td>124</td>\n",
       "    </tr>\n",
       "  </tbody>\n",
       "</table>\n",
       "</div>"
      ],
      "text/plain": [
       "   Year  District.Code District.Name  Neighborhood.Code  \\\n",
       "0  2017              1  Ciutat Vella                  1   \n",
       "1  2017              1  Ciutat Vella                  2   \n",
       "2  2017              1  Ciutat Vella                  3   \n",
       "3  2017              1  Ciutat Vella                  4   \n",
       "4  2017              2      Eixample                  5   \n",
       "\n",
       "                       Neighborhood.Name Gender  Age  Number  \n",
       "0                               el Raval   Male  0-4     224  \n",
       "1                         el Barri Gòtic   Male  0-4      50  \n",
       "2                         la Barceloneta   Male  0-4      43  \n",
       "3  Sant Pere, Santa Caterina i la Ribera   Male  0-4      95  \n",
       "4                          el Fort Pienc   Male  0-4     124  "
      ]
     },
     "execution_count": 34,
     "metadata": {},
     "output_type": "execute_result"
    }
   ],
   "source": [
    "df.head()"
   ]
  },
  {
   "cell_type": "code",
   "execution_count": 36,
   "id": "73ee8071",
   "metadata": {},
   "outputs": [
    {
     "data": {
      "text/plain": [
       "(70080, 8)"
      ]
     },
     "execution_count": 36,
     "metadata": {},
     "output_type": "execute_result"
    }
   ],
   "source": [
    "df.shape"
   ]
  },
  {
   "cell_type": "code",
   "execution_count": 37,
   "id": "7e6c60ca",
   "metadata": {},
   "outputs": [
    {
     "data": {
      "text/plain": [
       "Year                 0\n",
       "District.Code        0\n",
       "District.Name        0\n",
       "Neighborhood.Code    0\n",
       "Neighborhood.Name    0\n",
       "Gender               0\n",
       "Age                  0\n",
       "Number               0\n",
       "dtype: int64"
      ]
     },
     "execution_count": 37,
     "metadata": {},
     "output_type": "execute_result"
    }
   ],
   "source": [
    "df.isna().sum()"
   ]
  },
  {
   "cell_type": "code",
   "execution_count": 38,
   "id": "efc9faf6",
   "metadata": {},
   "outputs": [
    {
     "name": "stdout",
     "output_type": "stream",
     "text": [
      "<class 'pandas.core.frame.DataFrame'>\n",
      "RangeIndex: 70080 entries, 0 to 70079\n",
      "Data columns (total 8 columns):\n",
      " #   Column             Non-Null Count  Dtype \n",
      "---  ------             --------------  ----- \n",
      " 0   Year               70080 non-null  int64 \n",
      " 1   District.Code      70080 non-null  int64 \n",
      " 2   District.Name      70080 non-null  object\n",
      " 3   Neighborhood.Code  70080 non-null  int64 \n",
      " 4   Neighborhood.Name  70080 non-null  object\n",
      " 5   Gender             70080 non-null  object\n",
      " 6   Age                70080 non-null  object\n",
      " 7   Number             70080 non-null  int64 \n",
      "dtypes: int64(4), object(4)\n",
      "memory usage: 4.3+ MB\n"
     ]
    }
   ],
   "source": [
    "df.info()\n"
   ]
  },
  {
   "cell_type": "code",
   "execution_count": 39,
   "id": "77ec17a6",
   "metadata": {},
   "outputs": [
    {
     "data": {
      "text/html": [
       "<div>\n",
       "<style scoped>\n",
       "    .dataframe tbody tr th:only-of-type {\n",
       "        vertical-align: middle;\n",
       "    }\n",
       "\n",
       "    .dataframe tbody tr th {\n",
       "        vertical-align: top;\n",
       "    }\n",
       "\n",
       "    .dataframe thead th {\n",
       "        text-align: right;\n",
       "    }\n",
       "</style>\n",
       "<table border=\"1\" class=\"dataframe\">\n",
       "  <thead>\n",
       "    <tr style=\"text-align: right;\">\n",
       "      <th></th>\n",
       "      <th>Year</th>\n",
       "      <th>District.Code</th>\n",
       "      <th>Neighborhood.Code</th>\n",
       "      <th>Number</th>\n",
       "    </tr>\n",
       "  </thead>\n",
       "  <tbody>\n",
       "    <tr>\n",
       "      <th>count</th>\n",
       "      <td>70080.000000</td>\n",
       "      <td>70080.000000</td>\n",
       "      <td>70080.000000</td>\n",
       "      <td>70080.000000</td>\n",
       "    </tr>\n",
       "    <tr>\n",
       "      <th>mean</th>\n",
       "      <td>2015.000000</td>\n",
       "      <td>6.246575</td>\n",
       "      <td>37.000000</td>\n",
       "      <td>114.844720</td>\n",
       "    </tr>\n",
       "    <tr>\n",
       "      <th>std</th>\n",
       "      <td>1.414224</td>\n",
       "      <td>2.788356</td>\n",
       "      <td>21.071458</td>\n",
       "      <td>96.540389</td>\n",
       "    </tr>\n",
       "    <tr>\n",
       "      <th>min</th>\n",
       "      <td>2013.000000</td>\n",
       "      <td>1.000000</td>\n",
       "      <td>1.000000</td>\n",
       "      <td>0.000000</td>\n",
       "    </tr>\n",
       "    <tr>\n",
       "      <th>25%</th>\n",
       "      <td>2014.000000</td>\n",
       "      <td>4.000000</td>\n",
       "      <td>19.000000</td>\n",
       "      <td>43.000000</td>\n",
       "    </tr>\n",
       "    <tr>\n",
       "      <th>50%</th>\n",
       "      <td>2015.000000</td>\n",
       "      <td>7.000000</td>\n",
       "      <td>37.000000</td>\n",
       "      <td>92.000000</td>\n",
       "    </tr>\n",
       "    <tr>\n",
       "      <th>75%</th>\n",
       "      <td>2016.000000</td>\n",
       "      <td>8.000000</td>\n",
       "      <td>55.000000</td>\n",
       "      <td>162.000000</td>\n",
       "    </tr>\n",
       "    <tr>\n",
       "      <th>max</th>\n",
       "      <td>2017.000000</td>\n",
       "      <td>10.000000</td>\n",
       "      <td>73.000000</td>\n",
       "      <td>777.000000</td>\n",
       "    </tr>\n",
       "  </tbody>\n",
       "</table>\n",
       "</div>"
      ],
      "text/plain": [
       "               Year  District.Code  Neighborhood.Code        Number\n",
       "count  70080.000000   70080.000000       70080.000000  70080.000000\n",
       "mean    2015.000000       6.246575          37.000000    114.844720\n",
       "std        1.414224       2.788356          21.071458     96.540389\n",
       "min     2013.000000       1.000000           1.000000      0.000000\n",
       "25%     2014.000000       4.000000          19.000000     43.000000\n",
       "50%     2015.000000       7.000000          37.000000     92.000000\n",
       "75%     2016.000000       8.000000          55.000000    162.000000\n",
       "max     2017.000000      10.000000          73.000000    777.000000"
      ]
     },
     "execution_count": 39,
     "metadata": {},
     "output_type": "execute_result"
    }
   ],
   "source": [
    "df.describe()"
   ]
  },
  {
   "cell_type": "code",
   "execution_count": 40,
   "id": "2d72bac1",
   "metadata": {},
   "outputs": [
    {
     "data": {
      "text/plain": [
       "array(['Ciutat Vella', 'Eixample', 'Sants-Montjuïc', 'Les Corts',\n",
       "       'Sarrià-Sant Gervasi', 'Gràcia', 'Horta-Guinardó', 'Nou Barris',\n",
       "       'Sant Andreu', 'Sant Martí'], dtype=object)"
      ]
     },
     "execution_count": 40,
     "metadata": {},
     "output_type": "execute_result"
    }
   ],
   "source": [
    "df[\"District.Name\"].unique()"
   ]
  },
  {
   "cell_type": "code",
   "execution_count": 57,
   "id": "fd39a905",
   "metadata": {},
   "outputs": [
    {
     "data": {
      "text/plain": [
       "array([2017, 2016, 2015, 2014, 2013])"
      ]
     },
     "execution_count": 57,
     "metadata": {},
     "output_type": "execute_result"
    }
   ],
   "source": [
    "#df[\"Neighborhood.Name\"].unique()\n",
    "df[\"Year\"].unique()"
   ]
  },
  {
   "cell_type": "code",
   "execution_count": 58,
   "id": "ddd23505",
   "metadata": {},
   "outputs": [
    {
     "data": {
      "text/plain": [
       "array(['el Raval', 'el Barri Gòtic', 'la Barceloneta',\n",
       "       'Sant Pere, Santa Caterina i la Ribera', 'el Fort Pienc',\n",
       "       'la Sagrada Família', \"la Dreta de l'Eixample\",\n",
       "       \"l'Antiga Esquerra de l'Eixample\",\n",
       "       \"la Nova Esquerra de l'Eixample\", 'Sant Antoni', 'el Poble Sec',\n",
       "       'la Marina del Prat Vermell', 'la Marina de Port',\n",
       "       'la Font de la Guatlla', 'Hostafrancs', 'la Bordeta',\n",
       "       'Sants - Badal', 'Sants', 'les Corts',\n",
       "       'la Maternitat i Sant Ramon', 'Pedralbes',\n",
       "       'Vallvidrera, el Tibidabo i les Planes', 'Sarrià',\n",
       "       'les Tres Torres', 'Sant Gervasi - la Bonanova',\n",
       "       'Sant Gervasi - Galvany', 'el Putxet i el Farró',\n",
       "       'Vallcarca i els Penitents', 'el Coll', 'la Salut',\n",
       "       'la Vila de Gràcia', \"el Camp d'en Grassot i Gràcia Nova\",\n",
       "       'el Baix Guinardó', 'Can Baró', 'el Guinardó',\n",
       "       \"la Font d'en Fargues\", 'el Carmel', 'la Teixonera',\n",
       "       'Sant Genís dels Agudells', 'Montbau', \"la Vall d'Hebron\",\n",
       "       'la Clota', 'Horta', 'Vilapicina i la Torre Llobeta', 'Porta',\n",
       "       'el Turó de la Peira', 'Can Peguera', 'la Guineueta', 'Canyelles',\n",
       "       'les Roquetes', 'Verdun', 'la Prosperitat', 'la Trinitat Nova',\n",
       "       'Torre Baró', 'Ciutat Meridiana', 'Vallbona', 'la Trinitat Vella',\n",
       "       'Baró de Viver', 'el Bon Pastor', 'Sant Andreu', 'la Sagrera',\n",
       "       'el Congrés i els Indians', 'Navas', \"el Camp de l'Arpa del Clot\",\n",
       "       'el Clot', 'el Parc i la Llacuna del Poblenou',\n",
       "       'la Vila Olímpica del Poblenou', 'el Poblenou',\n",
       "       'Diagonal Mar i el Front Marítim del Poblenou',\n",
       "       'el Besòs i el Maresme', 'Provençals del Poblenou',\n",
       "       'Sant Martí de Provençals', 'la Verneda i la Pau'], dtype=object)"
      ]
     },
     "execution_count": 58,
     "metadata": {},
     "output_type": "execute_result"
    }
   ],
   "source": [
    "df[\"Neighborhood.Name\"].unique()"
   ]
  },
  {
   "cell_type": "code",
   "execution_count": 42,
   "id": "384f2496",
   "metadata": {},
   "outputs": [],
   "source": [
    "df = pd.read_csv(\"data/air_quality_Nov2017.csv\")"
   ]
  },
  {
   "cell_type": "code",
   "execution_count": 53,
   "id": "a9fd432a",
   "metadata": {},
   "outputs": [
    {
     "data": {
      "text/plain": [
       "Index(['Year', 'District.Code', 'District.Name', 'Neighborhood.Code',\n",
       "       'Neighborhood.Name', 'Gender', 'Age', 'Number'],\n",
       "      dtype='object')"
      ]
     },
     "execution_count": 53,
     "metadata": {},
     "output_type": "execute_result"
    }
   ],
   "source": [
    "df.columns"
   ]
  },
  {
   "cell_type": "code",
   "execution_count": 63,
   "id": "2d83da8e",
   "metadata": {},
   "outputs": [
    {
     "data": {
      "text/plain": [
       "4277"
      ]
     },
     "execution_count": 63,
     "metadata": {},
     "output_type": "execute_result"
    }
   ],
   "source": [
    "df.duplicated(subset=['Year', 'District.Code', 'District.Name', 'Neighborhood.Code',\n",
    "       'Neighborhood.Name', 'Gender', 'Age', 'Number']).sum()"
   ]
  },
  {
   "cell_type": "code",
   "execution_count": 64,
   "id": "a4fb7a16",
   "metadata": {},
   "outputs": [
    {
     "data": {
      "text/html": [
       "<div>\n",
       "<style scoped>\n",
       "    .dataframe tbody tr th:only-of-type {\n",
       "        vertical-align: middle;\n",
       "    }\n",
       "\n",
       "    .dataframe tbody tr th {\n",
       "        vertical-align: top;\n",
       "    }\n",
       "\n",
       "    .dataframe thead th {\n",
       "        text-align: right;\n",
       "    }\n",
       "</style>\n",
       "<table border=\"1\" class=\"dataframe\">\n",
       "  <thead>\n",
       "    <tr style=\"text-align: right;\">\n",
       "      <th></th>\n",
       "      <th>Year</th>\n",
       "      <th>District.Code</th>\n",
       "      <th>District.Name</th>\n",
       "      <th>Neighborhood.Code</th>\n",
       "      <th>Neighborhood.Name</th>\n",
       "      <th>Gender</th>\n",
       "      <th>Age</th>\n",
       "      <th>Number</th>\n",
       "    </tr>\n",
       "  </thead>\n",
       "  <tbody>\n",
       "    <tr>\n",
       "      <th>63802</th>\n",
       "      <td>2013</td>\n",
       "      <td>1</td>\n",
       "      <td>Ciutat Vella</td>\n",
       "      <td>1</td>\n",
       "      <td>el Raval</td>\n",
       "      <td>Female</td>\n",
       "      <td>10-14</td>\n",
       "      <td>167</td>\n",
       "    </tr>\n",
       "    <tr>\n",
       "      <th>64021</th>\n",
       "      <td>2013</td>\n",
       "      <td>1</td>\n",
       "      <td>Ciutat Vella</td>\n",
       "      <td>1</td>\n",
       "      <td>el Raval</td>\n",
       "      <td>Female</td>\n",
       "      <td>10-14</td>\n",
       "      <td>167</td>\n",
       "    </tr>\n",
       "    <tr>\n",
       "      <th>66503</th>\n",
       "      <td>2013</td>\n",
       "      <td>1</td>\n",
       "      <td>Ciutat Vella</td>\n",
       "      <td>1</td>\n",
       "      <td>el Raval</td>\n",
       "      <td>Female</td>\n",
       "      <td>45-49</td>\n",
       "      <td>299</td>\n",
       "    </tr>\n",
       "    <tr>\n",
       "      <th>66576</th>\n",
       "      <td>2013</td>\n",
       "      <td>1</td>\n",
       "      <td>Ciutat Vella</td>\n",
       "      <td>1</td>\n",
       "      <td>el Raval</td>\n",
       "      <td>Female</td>\n",
       "      <td>45-49</td>\n",
       "      <td>299</td>\n",
       "    </tr>\n",
       "    <tr>\n",
       "      <th>68620</th>\n",
       "      <td>2013</td>\n",
       "      <td>1</td>\n",
       "      <td>Ciutat Vella</td>\n",
       "      <td>1</td>\n",
       "      <td>el Raval</td>\n",
       "      <td>Female</td>\n",
       "      <td>75-79</td>\n",
       "      <td>156</td>\n",
       "    </tr>\n",
       "  </tbody>\n",
       "</table>\n",
       "</div>"
      ],
      "text/plain": [
       "       Year  District.Code District.Name  Neighborhood.Code Neighborhood.Name  \\\n",
       "63802  2013              1  Ciutat Vella                  1          el Raval   \n",
       "64021  2013              1  Ciutat Vella                  1          el Raval   \n",
       "66503  2013              1  Ciutat Vella                  1          el Raval   \n",
       "66576  2013              1  Ciutat Vella                  1          el Raval   \n",
       "68620  2013              1  Ciutat Vella                  1          el Raval   \n",
       "\n",
       "       Gender    Age  Number  \n",
       "63802  Female  10-14     167  \n",
       "64021  Female  10-14     167  \n",
       "66503  Female  45-49     299  \n",
       "66576  Female  45-49     299  \n",
       "68620  Female  75-79     156  "
      ]
     },
     "execution_count": 64,
     "metadata": {},
     "output_type": "execute_result"
    }
   ],
   "source": [
    "df[df.duplicated(subset=['Year', 'District.Code', 'District.Name', 'Neighborhood.Code',\n",
    "       'Neighborhood.Name', 'Gender', 'Age', 'Number'], keep=False)].sort_values(by=['Year', 'District.Code', 'District.Name', 'Neighborhood.Code',\n",
    "       'Neighborhood.Name', 'Gender', 'Age', 'Number']).head()\n",
    "#Nota, se tienen que eliminar algunos duplicados\n"
   ]
  }
 ],
 "metadata": {
  "kernelspec": {
   "display_name": "barcelona_dashboard",
   "language": "python",
   "name": "python3"
  },
  "language_info": {
   "codemirror_mode": {
    "name": "ipython",
    "version": 3
   },
   "file_extension": ".py",
   "mimetype": "text/x-python",
   "name": "python",
   "nbconvert_exporter": "python",
   "pygments_lexer": "ipython3",
   "version": "3.10.9"
  },
  "vscode": {
   "interpreter": {
    "hash": "b947286ba3d15da99ec29fd167380bf9ad51e228815d9dbd50cb9039a6b21789"
   }
  }
 },
 "nbformat": 4,
 "nbformat_minor": 5
}
