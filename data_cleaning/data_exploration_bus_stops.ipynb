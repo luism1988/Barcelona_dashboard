{
 "cells": [
  {
   "attachments": {},
   "cell_type": "markdown",
   "id": "f49ab96e",
   "metadata": {},
   "source": [
    "# Data cleaning: transports"
   ]
  },
  {
   "cell_type": "code",
   "execution_count": 7,
   "id": "305681c5",
   "metadata": {},
   "outputs": [],
   "source": [
    "import pandas as pd\n",
    "\n",
    "df = pd.read_csv(\"data/bus_stops.csv\")"
   ]
  },
  {
   "cell_type": "code",
   "execution_count": 9,
   "id": "c44fd5ca",
   "metadata": {},
   "outputs": [
    {
     "data": {
      "text/html": [
       "<div>\n",
       "<style scoped>\n",
       "    .dataframe tbody tr th:only-of-type {\n",
       "        vertical-align: middle;\n",
       "    }\n",
       "\n",
       "    .dataframe tbody tr th {\n",
       "        vertical-align: top;\n",
       "    }\n",
       "\n",
       "    .dataframe thead th {\n",
       "        text-align: right;\n",
       "    }\n",
       "</style>\n",
       "<table border=\"1\" class=\"dataframe\">\n",
       "  <thead>\n",
       "    <tr style=\"text-align: right;\">\n",
       "      <th></th>\n",
       "      <th>Code</th>\n",
       "      <th>Transport</th>\n",
       "      <th>Longitude</th>\n",
       "      <th>Latitude</th>\n",
       "      <th>Bus.Stop</th>\n",
       "      <th>District.Name</th>\n",
       "      <th>Neighborhood.Name</th>\n",
       "    </tr>\n",
       "  </thead>\n",
       "  <tbody>\n",
       "    <tr>\n",
       "      <th>0</th>\n",
       "      <td>K014</td>\n",
       "      <td>Day bus stop</td>\n",
       "      <td>2.171619</td>\n",
       "      <td>41.413744</td>\n",
       "      <td>BUS -192--</td>\n",
       "      <td>Horta-Guinardó</td>\n",
       "      <td>el Guinardó</td>\n",
       "    </tr>\n",
       "    <tr>\n",
       "      <th>1</th>\n",
       "      <td>K014</td>\n",
       "      <td>Day bus stop</td>\n",
       "      <td>2.134902</td>\n",
       "      <td>41.420222</td>\n",
       "      <td>BUS -124--</td>\n",
       "      <td>Gràcia</td>\n",
       "      <td>Vallcarca i els Penitents</td>\n",
       "    </tr>\n",
       "  </tbody>\n",
       "</table>\n",
       "</div>"
      ],
      "text/plain": [
       "   Code     Transport  Longitude   Latitude    Bus.Stop   District.Name  \\\n",
       "0  K014  Day bus stop   2.171619  41.413744  BUS -192--  Horta-Guinardó   \n",
       "1  K014  Day bus stop   2.134902  41.420222  BUS -124--          Gràcia   \n",
       "\n",
       "           Neighborhood.Name  \n",
       "0                el Guinardó  \n",
       "1  Vallcarca i els Penitents  "
      ]
     },
     "execution_count": 9,
     "metadata": {},
     "output_type": "execute_result"
    }
   ],
   "source": [
    "df.head(2)"
   ]
  },
  {
   "cell_type": "code",
   "execution_count": 10,
   "id": "73ee8071",
   "metadata": {},
   "outputs": [
    {
     "data": {
      "text/plain": [
       "(3162, 7)"
      ]
     },
     "execution_count": 10,
     "metadata": {},
     "output_type": "execute_result"
    }
   ],
   "source": [
    "df.shape"
   ]
  },
  {
   "cell_type": "code",
   "execution_count": 11,
   "id": "7e6c60ca",
   "metadata": {},
   "outputs": [
    {
     "data": {
      "text/plain": [
       "Code                  0\n",
       "Transport             0\n",
       "Longitude             0\n",
       "Latitude              0\n",
       "Bus.Stop              0\n",
       "District.Name        16\n",
       "Neighborhood.Name    16\n",
       "dtype: int64"
      ]
     },
     "execution_count": 11,
     "metadata": {},
     "output_type": "execute_result"
    }
   ],
   "source": [
    "df.isna().sum()"
   ]
  },
  {
   "cell_type": "code",
   "execution_count": 12,
   "id": "efc9faf6",
   "metadata": {},
   "outputs": [
    {
     "name": "stdout",
     "output_type": "stream",
     "text": [
      "<class 'pandas.core.frame.DataFrame'>\n",
      "RangeIndex: 3162 entries, 0 to 3161\n",
      "Data columns (total 7 columns):\n",
      " #   Column             Non-Null Count  Dtype  \n",
      "---  ------             --------------  -----  \n",
      " 0   Code               3162 non-null   object \n",
      " 1   Transport          3162 non-null   object \n",
      " 2   Longitude          3162 non-null   float64\n",
      " 3   Latitude           3162 non-null   float64\n",
      " 4   Bus.Stop           3162 non-null   object \n",
      " 5   District.Name      3146 non-null   object \n",
      " 6   Neighborhood.Name  3146 non-null   object \n",
      "dtypes: float64(2), object(5)\n",
      "memory usage: 173.0+ KB\n"
     ]
    }
   ],
   "source": [
    "df.info()\n"
   ]
  },
  {
   "cell_type": "code",
   "execution_count": 13,
   "id": "77ec17a6",
   "metadata": {},
   "outputs": [
    {
     "data": {
      "text/html": [
       "<div>\n",
       "<style scoped>\n",
       "    .dataframe tbody tr th:only-of-type {\n",
       "        vertical-align: middle;\n",
       "    }\n",
       "\n",
       "    .dataframe tbody tr th {\n",
       "        vertical-align: top;\n",
       "    }\n",
       "\n",
       "    .dataframe thead th {\n",
       "        text-align: right;\n",
       "    }\n",
       "</style>\n",
       "<table border=\"1\" class=\"dataframe\">\n",
       "  <thead>\n",
       "    <tr style=\"text-align: right;\">\n",
       "      <th></th>\n",
       "      <th>Longitude</th>\n",
       "      <th>Latitude</th>\n",
       "    </tr>\n",
       "  </thead>\n",
       "  <tbody>\n",
       "    <tr>\n",
       "      <th>count</th>\n",
       "      <td>3162.000000</td>\n",
       "      <td>3162.000000</td>\n",
       "    </tr>\n",
       "    <tr>\n",
       "      <th>mean</th>\n",
       "      <td>2.159824</td>\n",
       "      <td>41.405002</td>\n",
       "    </tr>\n",
       "    <tr>\n",
       "      <th>std</th>\n",
       "      <td>0.027898</td>\n",
       "      <td>0.027150</td>\n",
       "    </tr>\n",
       "    <tr>\n",
       "      <th>min</th>\n",
       "      <td>2.055835</td>\n",
       "      <td>41.321643</td>\n",
       "    </tr>\n",
       "    <tr>\n",
       "      <th>25%</th>\n",
       "      <td>2.140627</td>\n",
       "      <td>41.386903</td>\n",
       "    </tr>\n",
       "    <tr>\n",
       "      <th>50%</th>\n",
       "      <td>2.161103</td>\n",
       "      <td>41.405734</td>\n",
       "    </tr>\n",
       "    <tr>\n",
       "      <th>75%</th>\n",
       "      <td>2.180406</td>\n",
       "      <td>41.423526</td>\n",
       "    </tr>\n",
       "    <tr>\n",
       "      <th>max</th>\n",
       "      <td>2.221753</td>\n",
       "      <td>41.467592</td>\n",
       "    </tr>\n",
       "  </tbody>\n",
       "</table>\n",
       "</div>"
      ],
      "text/plain": [
       "         Longitude     Latitude\n",
       "count  3162.000000  3162.000000\n",
       "mean      2.159824    41.405002\n",
       "std       0.027898     0.027150\n",
       "min       2.055835    41.321643\n",
       "25%       2.140627    41.386903\n",
       "50%       2.161103    41.405734\n",
       "75%       2.180406    41.423526\n",
       "max       2.221753    41.467592"
      ]
     },
     "execution_count": 13,
     "metadata": {},
     "output_type": "execute_result"
    }
   ],
   "source": [
    "df.describe()"
   ]
  },
  {
   "cell_type": "code",
   "execution_count": 14,
   "id": "2d72bac1",
   "metadata": {},
   "outputs": [
    {
     "data": {
      "text/plain": [
       "array(['Horta-Guinardó', 'Gràcia', 'Sarrià-Sant Gervasi', 'Sant Martí',\n",
       "       'Sants-Montjuïc', 'Ciutat Vella', 'Nou Barris', 'Les Corts',\n",
       "       'Eixample', 'Sant Andreu', nan], dtype=object)"
      ]
     },
     "execution_count": 14,
     "metadata": {},
     "output_type": "execute_result"
    }
   ],
   "source": [
    "df[\"District.Name\"].unique()"
   ]
  },
  {
   "cell_type": "code",
   "execution_count": 16,
   "id": "fd39a905",
   "metadata": {},
   "outputs": [
    {
     "data": {
      "text/plain": [
       "array(['el Guinardó', 'Vallcarca i els Penitents', \"la Font d'en Fargues\",\n",
       "       'Sarrià', 'el Putxet i el Farró', 'Sant Gervasi - la Bonanova',\n",
       "       'Diagonal Mar i el Front Marítim del Poblenou', 'la Bordeta',\n",
       "       'Sant Pere, Santa Caterina i la Ribera',\n",
       "       \"el Camp de l'Arpa del Clot\", 'la Teixonera', 'Torre Baró',\n",
       "       'Vallbona', 'la Maternitat i Sant Ramon', 'la Trinitat Nova',\n",
       "       'el Baix Guinardó', 'Sant Antoni', 'la Trinitat Vella', 'Porta',\n",
       "       'Provençals del Poblenou', 'Montbau', 'Pedralbes',\n",
       "       'el Parc i la Llacuna del Poblenou', 'les Corts', 'el Poblenou',\n",
       "       \"l'Antiga Esquerra de l'Eixample\", 'la Sagrada Família', 'Horta',\n",
       "       'el Carmel', 'la Marina de Port', 'el Besòs i el Maresme',\n",
       "       'la Marina del Prat Vermell', \"la Dreta de l'Eixample\",\n",
       "       'la Verneda i la Pau', 'Sant Andreu', 'el Poble-sec',\n",
       "       'el Barri Gòtic', \"la Nova Esquerra de l'Eixample\",\n",
       "       'la Barceloneta', 'el Bon Pastor', 'la Vila Olímpica del Poblenou',\n",
       "       'el Clot', 'Sants - Badal', 'Sant Gervasi - Galvany',\n",
       "       'la Font de la Guatlla', 'la Vila de Gràcia', 'Hostafrancs',\n",
       "       'la Guineueta', 'Sant Martí de Provençals', \"la Vall d'Hebron\",\n",
       "       'Navas', 'Vallvidrera, el Tibidabo i les Planes', 'la Sagrera',\n",
       "       \"el Camp d'en Grassot i Gràcia Nova\", 'Sant Genís dels Agudells',\n",
       "       'Verdun', 'Ciutat Meridiana', 'el Fort Pienc', 'Sants', nan,\n",
       "       'la Clota', 'la Salut', 'Can Baró', 'el Congrés i els Indians',\n",
       "       'el Raval', 'Baró de Viver', 'la Prosperitat',\n",
       "       'Vilapicina i la Torre Llobeta', 'les Roquetes', 'Canyelles',\n",
       "       'el Coll', 'les Tres Torres', 'el Turó de la Peira', 'Can Peguera'],\n",
       "      dtype=object)"
      ]
     },
     "execution_count": 16,
     "metadata": {},
     "output_type": "execute_result"
    }
   ],
   "source": [
    "df[\"Neighborhood.Name\"].unique()\n"
   ]
  },
  {
   "cell_type": "code",
   "execution_count": 17,
   "id": "a9fd432a",
   "metadata": {},
   "outputs": [
    {
     "data": {
      "text/plain": [
       "Index(['Code', 'Transport', 'Longitude', 'Latitude', 'Bus.Stop',\n",
       "       'District.Name', 'Neighborhood.Name'],\n",
       "      dtype='object')"
      ]
     },
     "execution_count": 17,
     "metadata": {},
     "output_type": "execute_result"
    }
   ],
   "source": [
    "df.columns"
   ]
  },
  {
   "cell_type": "code",
   "execution_count": 19,
   "id": "2d83da8e",
   "metadata": {},
   "outputs": [
    {
     "data": {
      "text/plain": [
       "0"
      ]
     },
     "execution_count": 19,
     "metadata": {},
     "output_type": "execute_result"
    }
   ],
   "source": [
    "df.duplicated(subset=['Code', 'Transport', 'Longitude', 'Latitude', 'Bus.Stop',\n",
    "       'District.Name', 'Neighborhood.Name']).sum()"
   ]
  },
  {
   "cell_type": "code",
   "execution_count": 20,
   "id": "875956cb",
   "metadata": {},
   "outputs": [],
   "source": [
    "def extract(x,dic):\n",
    "    for k,v in dic.items():\n",
    "        if k in str(x):\n",
    "            return v\n",
    "    return x"
   ]
  },
  {
   "cell_type": "code",
   "execution_count": 21,
   "id": "8349fc1c",
   "metadata": {},
   "outputs": [],
   "source": [
    "df[\"District.Name_\"] = df[\"District.Name\"].apply(extract, dic = {\"nan\":\"unknowled\"})\n",
    "df[\"Neighborhood.Name_\"] = df[\"Neighborhood.Name\"].apply(extract, dic = {\"nan\":\"unknowled\"})"
   ]
  },
  {
   "cell_type": "code",
   "execution_count": 22,
   "id": "c6703adf",
   "metadata": {},
   "outputs": [
    {
     "data": {
      "text/html": [
       "<div>\n",
       "<style scoped>\n",
       "    .dataframe tbody tr th:only-of-type {\n",
       "        vertical-align: middle;\n",
       "    }\n",
       "\n",
       "    .dataframe tbody tr th {\n",
       "        vertical-align: top;\n",
       "    }\n",
       "\n",
       "    .dataframe thead th {\n",
       "        text-align: right;\n",
       "    }\n",
       "</style>\n",
       "<table border=\"1\" class=\"dataframe\">\n",
       "  <thead>\n",
       "    <tr style=\"text-align: right;\">\n",
       "      <th></th>\n",
       "      <th>Code</th>\n",
       "      <th>Transport</th>\n",
       "      <th>Longitude</th>\n",
       "      <th>Latitude</th>\n",
       "      <th>Bus.Stop</th>\n",
       "      <th>District.Name</th>\n",
       "      <th>Neighborhood.Name</th>\n",
       "      <th>District.Name_</th>\n",
       "      <th>Neighborhood.Name_</th>\n",
       "    </tr>\n",
       "  </thead>\n",
       "  <tbody>\n",
       "    <tr>\n",
       "      <th>0</th>\n",
       "      <td>K014</td>\n",
       "      <td>Day bus stop</td>\n",
       "      <td>2.171619</td>\n",
       "      <td>41.413744</td>\n",
       "      <td>BUS -192--</td>\n",
       "      <td>Horta-Guinardó</td>\n",
       "      <td>el Guinardó</td>\n",
       "      <td>Horta-Guinardó</td>\n",
       "      <td>el Guinardó</td>\n",
       "    </tr>\n",
       "    <tr>\n",
       "      <th>1</th>\n",
       "      <td>K014</td>\n",
       "      <td>Day bus stop</td>\n",
       "      <td>2.134902</td>\n",
       "      <td>41.420222</td>\n",
       "      <td>BUS -124--</td>\n",
       "      <td>Gràcia</td>\n",
       "      <td>Vallcarca i els Penitents</td>\n",
       "      <td>Gràcia</td>\n",
       "      <td>Vallcarca i els Penitents</td>\n",
       "    </tr>\n",
       "  </tbody>\n",
       "</table>\n",
       "</div>"
      ],
      "text/plain": [
       "   Code     Transport  Longitude   Latitude    Bus.Stop   District.Name  \\\n",
       "0  K014  Day bus stop   2.171619  41.413744  BUS -192--  Horta-Guinardó   \n",
       "1  K014  Day bus stop   2.134902  41.420222  BUS -124--          Gràcia   \n",
       "\n",
       "           Neighborhood.Name  District.Name_         Neighborhood.Name_  \n",
       "0                el Guinardó  Horta-Guinardó                el Guinardó  \n",
       "1  Vallcarca i els Penitents          Gràcia  Vallcarca i els Penitents  "
      ]
     },
     "execution_count": 22,
     "metadata": {},
     "output_type": "execute_result"
    }
   ],
   "source": [
    "df.head(2)"
   ]
  },
  {
   "cell_type": "code",
   "execution_count": 23,
   "id": "9e66795f",
   "metadata": {},
   "outputs": [
    {
     "data": {
      "text/plain": [
       "Code                   0\n",
       "Transport              0\n",
       "Longitude              0\n",
       "Latitude               0\n",
       "Bus.Stop               0\n",
       "District.Name         16\n",
       "Neighborhood.Name     16\n",
       "District.Name_         0\n",
       "Neighborhood.Name_     0\n",
       "dtype: int64"
      ]
     },
     "execution_count": 23,
     "metadata": {},
     "output_type": "execute_result"
    }
   ],
   "source": [
    "df.isna().sum()"
   ]
  },
  {
   "attachments": {},
   "cell_type": "markdown",
   "id": "8d008c77",
   "metadata": {},
   "source": [
    "Creación del new_bus_stops.csv sin elemento nulos para luego pasarlo a mongodb."
   ]
  },
  {
   "cell_type": "code",
   "execution_count": 24,
   "id": "cc18a97e",
   "metadata": {},
   "outputs": [],
   "source": [
    "new_bus_stops = df.drop(columns=['District.Name', 'Neighborhood.Name'])"
   ]
  },
  {
   "cell_type": "code",
   "execution_count": 25,
   "id": "826ebc97",
   "metadata": {},
   "outputs": [
    {
     "data": {
      "text/plain": [
       "Code                  0\n",
       "Transport             0\n",
       "Longitude             0\n",
       "Latitude              0\n",
       "Bus.Stop              0\n",
       "District.Name_        0\n",
       "Neighborhood.Name_    0\n",
       "dtype: int64"
      ]
     },
     "execution_count": 25,
     "metadata": {},
     "output_type": "execute_result"
    }
   ],
   "source": [
    "new_bus_stops.isna().sum()"
   ]
  },
  {
   "cell_type": "code",
   "execution_count": 26,
   "id": "4979f60f",
   "metadata": {},
   "outputs": [],
   "source": [
    "new_bus_stops.to_csv(\"data/new_bus_stops.csv\",index=False)"
   ]
  },
  {
   "cell_type": "code",
   "execution_count": 27,
   "id": "af1eed2d",
   "metadata": {},
   "outputs": [
    {
     "data": {
      "text/html": [
       "<div>\n",
       "<style scoped>\n",
       "    .dataframe tbody tr th:only-of-type {\n",
       "        vertical-align: middle;\n",
       "    }\n",
       "\n",
       "    .dataframe tbody tr th {\n",
       "        vertical-align: top;\n",
       "    }\n",
       "\n",
       "    .dataframe thead th {\n",
       "        text-align: right;\n",
       "    }\n",
       "</style>\n",
       "<table border=\"1\" class=\"dataframe\">\n",
       "  <thead>\n",
       "    <tr style=\"text-align: right;\">\n",
       "      <th></th>\n",
       "      <th>Code</th>\n",
       "      <th>Transport</th>\n",
       "      <th>Longitude</th>\n",
       "      <th>Latitude</th>\n",
       "      <th>Bus.Stop</th>\n",
       "      <th>District.Name_</th>\n",
       "      <th>Neighborhood.Name_</th>\n",
       "    </tr>\n",
       "  </thead>\n",
       "  <tbody>\n",
       "    <tr>\n",
       "      <th>0</th>\n",
       "      <td>K014</td>\n",
       "      <td>Day bus stop</td>\n",
       "      <td>2.171619</td>\n",
       "      <td>41.413744</td>\n",
       "      <td>BUS -192--</td>\n",
       "      <td>Horta-Guinardó</td>\n",
       "      <td>el Guinardó</td>\n",
       "    </tr>\n",
       "    <tr>\n",
       "      <th>1</th>\n",
       "      <td>K014</td>\n",
       "      <td>Day bus stop</td>\n",
       "      <td>2.134902</td>\n",
       "      <td>41.420222</td>\n",
       "      <td>BUS -124--</td>\n",
       "      <td>Gràcia</td>\n",
       "      <td>Vallcarca i els Penitents</td>\n",
       "    </tr>\n",
       "    <tr>\n",
       "      <th>2</th>\n",
       "      <td>K014</td>\n",
       "      <td>Day bus stop</td>\n",
       "      <td>2.162913</td>\n",
       "      <td>41.423187</td>\n",
       "      <td>BUS -117--</td>\n",
       "      <td>Horta-Guinardó</td>\n",
       "      <td>la Font d'en Fargues</td>\n",
       "    </tr>\n",
       "    <tr>\n",
       "      <th>3</th>\n",
       "      <td>K014</td>\n",
       "      <td>Day bus stop</td>\n",
       "      <td>2.163667</td>\n",
       "      <td>41.422899</td>\n",
       "      <td>BUS -117--</td>\n",
       "      <td>Horta-Guinardó</td>\n",
       "      <td>la Font d'en Fargues</td>\n",
       "    </tr>\n",
       "    <tr>\n",
       "      <th>4</th>\n",
       "      <td>K014</td>\n",
       "      <td>Day bus stop</td>\n",
       "      <td>2.120212</td>\n",
       "      <td>41.397209</td>\n",
       "      <td>BUS -130--</td>\n",
       "      <td>Sarrià-Sant Gervasi</td>\n",
       "      <td>Sarrià</td>\n",
       "    </tr>\n",
       "  </tbody>\n",
       "</table>\n",
       "</div>"
      ],
      "text/plain": [
       "   Code     Transport  Longitude   Latitude    Bus.Stop       District.Name_  \\\n",
       "0  K014  Day bus stop   2.171619  41.413744  BUS -192--       Horta-Guinardó   \n",
       "1  K014  Day bus stop   2.134902  41.420222  BUS -124--               Gràcia   \n",
       "2  K014  Day bus stop   2.162913  41.423187  BUS -117--       Horta-Guinardó   \n",
       "3  K014  Day bus stop   2.163667  41.422899  BUS -117--       Horta-Guinardó   \n",
       "4  K014  Day bus stop   2.120212  41.397209  BUS -130--  Sarrià-Sant Gervasi   \n",
       "\n",
       "          Neighborhood.Name_  \n",
       "0                el Guinardó  \n",
       "1  Vallcarca i els Penitents  \n",
       "2       la Font d'en Fargues  \n",
       "3       la Font d'en Fargues  \n",
       "4                     Sarrià  "
      ]
     },
     "execution_count": 27,
     "metadata": {},
     "output_type": "execute_result"
    }
   ],
   "source": [
    "df = pd.read_csv(\"data/new_bus_stops.csv\")\n",
    "df.head()"
   ]
  }
 ],
 "metadata": {
  "kernelspec": {
   "display_name": "barcelona_dashboard",
   "language": "python",
   "name": "python3"
  },
  "language_info": {
   "codemirror_mode": {
    "name": "ipython",
    "version": 3
   },
   "file_extension": ".py",
   "mimetype": "text/x-python",
   "name": "python",
   "nbconvert_exporter": "python",
   "pygments_lexer": "ipython3",
   "version": "3.10.9"
  },
  "vscode": {
   "interpreter": {
    "hash": "b947286ba3d15da99ec29fd167380bf9ad51e228815d9dbd50cb9039a6b21789"
   }
  }
 },
 "nbformat": 4,
 "nbformat_minor": 5
}
