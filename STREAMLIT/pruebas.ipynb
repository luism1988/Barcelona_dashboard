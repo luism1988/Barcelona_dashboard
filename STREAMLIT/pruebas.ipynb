{
 "cells": [
  {
   "cell_type": "code",
   "execution_count": 72,
   "metadata": {},
   "outputs": [],
   "source": [
    "import streamlit as st\n",
    "import streamlit.components.v1 as components\n",
    "import pandas as pd\n",
    "\n",
    "\n",
    "from data.get_data import get_district_coordinates,get_district,get_district2\n",
    "from data.graph import bar_plot, district_map\n",
    "from streamlit_folium import folium_static\n",
    "import matplotlib.pyplot as plt\n",
    "import seaborn as sns\n",
    "\n",
    "\n"
   ]
  },
  {
   "cell_type": "code",
   "execution_count": 73,
   "metadata": {},
   "outputs": [],
   "source": [
    "year = 2017\n",
    "district_population = get_district(year)\n",
    "df = pd.DataFrame(district_population)"
   ]
  },
  {
   "cell_type": "code",
   "execution_count": 74,
   "metadata": {},
   "outputs": [
    {
     "data": {
      "text/html": [
       "<div>\n",
       "<style scoped>\n",
       "    .dataframe tbody tr th:only-of-type {\n",
       "        vertical-align: middle;\n",
       "    }\n",
       "\n",
       "    .dataframe tbody tr th {\n",
       "        vertical-align: top;\n",
       "    }\n",
       "\n",
       "    .dataframe thead th {\n",
       "        text-align: right;\n",
       "    }\n",
       "</style>\n",
       "<table border=\"1\" class=\"dataframe\">\n",
       "  <thead>\n",
       "    <tr style=\"text-align: right;\">\n",
       "      <th></th>\n",
       "      <th>Year</th>\n",
       "      <th>District</th>\n",
       "      <th>Neighborhood</th>\n",
       "      <th>Gender</th>\n",
       "      <th>Age</th>\n",
       "      <th>Number</th>\n",
       "    </tr>\n",
       "  </thead>\n",
       "  <tbody>\n",
       "    <tr>\n",
       "      <th>0</th>\n",
       "      <td>2017</td>\n",
       "      <td>{'Code': '1', 'Name': 'Ciutat Vella'}</td>\n",
       "      <td>{'Code': '1', 'Name': 'el Raval'}</td>\n",
       "      <td>Male</td>\n",
       "      <td>0-4</td>\n",
       "      <td>224</td>\n",
       "    </tr>\n",
       "    <tr>\n",
       "      <th>1</th>\n",
       "      <td>2017</td>\n",
       "      <td>{'Code': '1', 'Name': 'Ciutat Vella'}</td>\n",
       "      <td>{'Code': '2', 'Name': 'el Barri Gòtic'}</td>\n",
       "      <td>Male</td>\n",
       "      <td>0-4</td>\n",
       "      <td>50</td>\n",
       "    </tr>\n",
       "    <tr>\n",
       "      <th>2</th>\n",
       "      <td>2017</td>\n",
       "      <td>{'Code': '1', 'Name': 'Ciutat Vella'}</td>\n",
       "      <td>{'Code': '3', 'Name': 'la Barceloneta'}</td>\n",
       "      <td>Male</td>\n",
       "      <td>0-4</td>\n",
       "      <td>43</td>\n",
       "    </tr>\n",
       "    <tr>\n",
       "      <th>3</th>\n",
       "      <td>2017</td>\n",
       "      <td>{'Code': '1', 'Name': 'Ciutat Vella'}</td>\n",
       "      <td>{'Code': '4', 'Name': 'Sant Pere, Santa Cateri...</td>\n",
       "      <td>Male</td>\n",
       "      <td>0-4</td>\n",
       "      <td>95</td>\n",
       "    </tr>\n",
       "    <tr>\n",
       "      <th>4</th>\n",
       "      <td>2017</td>\n",
       "      <td>{'Code': '2', 'Name': 'Eixample'}</td>\n",
       "      <td>{'Code': '5', 'Name': 'el Fort Pienc'}</td>\n",
       "      <td>Male</td>\n",
       "      <td>0-4</td>\n",
       "      <td>124</td>\n",
       "    </tr>\n",
       "  </tbody>\n",
       "</table>\n",
       "</div>"
      ],
      "text/plain": [
       "   Year                               District  \\\n",
       "0  2017  {'Code': '1', 'Name': 'Ciutat Vella'}   \n",
       "1  2017  {'Code': '1', 'Name': 'Ciutat Vella'}   \n",
       "2  2017  {'Code': '1', 'Name': 'Ciutat Vella'}   \n",
       "3  2017  {'Code': '1', 'Name': 'Ciutat Vella'}   \n",
       "4  2017      {'Code': '2', 'Name': 'Eixample'}   \n",
       "\n",
       "                                        Neighborhood Gender  Age Number  \n",
       "0                  {'Code': '1', 'Name': 'el Raval'}   Male  0-4    224  \n",
       "1            {'Code': '2', 'Name': 'el Barri Gòtic'}   Male  0-4     50  \n",
       "2            {'Code': '3', 'Name': 'la Barceloneta'}   Male  0-4     43  \n",
       "3  {'Code': '4', 'Name': 'Sant Pere, Santa Cateri...   Male  0-4     95  \n",
       "4             {'Code': '5', 'Name': 'el Fort Pienc'}   Male  0-4    124  "
      ]
     },
     "execution_count": 74,
     "metadata": {},
     "output_type": "execute_result"
    }
   ],
   "source": [
    "df.head()"
   ]
  },
  {
   "cell_type": "code",
   "execution_count": 89,
   "metadata": {},
   "outputs": [],
   "source": [
    "distritos = []\n",
    "poblacion = []\n",
    "Gender = []\n",
    "columns = [\"District\",\"Population\",\"Gender\"]\n",
    "for i in df[\"Number\"]:\n",
    "    poblacion.append(i)\n",
    "  \n",
    "for i in df[\"District\"]: \n",
    "    distritos.append(i[\"Name\"])\n",
    "\n",
    "for i in df[\"Gender\"]: \n",
    "    Gender.append(i)\n"
   ]
  },
  {
   "cell_type": "code",
   "execution_count": 79,
   "metadata": {},
   "outputs": [
    {
     "data": {
      "text/plain": [
       "['224', '50', '43', '95', '124', '191', '176', '158', '220', '143']"
      ]
     },
     "execution_count": 79,
     "metadata": {},
     "output_type": "execute_result"
    }
   ],
   "source": [
    "#distritos[:10]\n",
    "poblacion[:10]"
   ]
  },
  {
   "cell_type": "code",
   "execution_count": 90,
   "metadata": {},
   "outputs": [
    {
     "data": {
      "text/html": [
       "<div>\n",
       "<style scoped>\n",
       "    .dataframe tbody tr th:only-of-type {\n",
       "        vertical-align: middle;\n",
       "    }\n",
       "\n",
       "    .dataframe tbody tr th {\n",
       "        vertical-align: top;\n",
       "    }\n",
       "\n",
       "    .dataframe thead th {\n",
       "        text-align: right;\n",
       "    }\n",
       "</style>\n",
       "<table border=\"1\" class=\"dataframe\">\n",
       "  <thead>\n",
       "    <tr style=\"text-align: right;\">\n",
       "      <th></th>\n",
       "      <th>District</th>\n",
       "      <th>Population</th>\n",
       "      <th>Gender</th>\n",
       "    </tr>\n",
       "  </thead>\n",
       "  <tbody>\n",
       "    <tr>\n",
       "      <th>0</th>\n",
       "      <td>Ciutat Vella</td>\n",
       "      <td>224</td>\n",
       "      <td>Male</td>\n",
       "    </tr>\n",
       "    <tr>\n",
       "      <th>1</th>\n",
       "      <td>Ciutat Vella</td>\n",
       "      <td>50</td>\n",
       "      <td>Male</td>\n",
       "    </tr>\n",
       "    <tr>\n",
       "      <th>2</th>\n",
       "      <td>Ciutat Vella</td>\n",
       "      <td>43</td>\n",
       "      <td>Male</td>\n",
       "    </tr>\n",
       "    <tr>\n",
       "      <th>3</th>\n",
       "      <td>Ciutat Vella</td>\n",
       "      <td>95</td>\n",
       "      <td>Male</td>\n",
       "    </tr>\n",
       "    <tr>\n",
       "      <th>4</th>\n",
       "      <td>Eixample</td>\n",
       "      <td>124</td>\n",
       "      <td>Male</td>\n",
       "    </tr>\n",
       "    <tr>\n",
       "      <th>...</th>\n",
       "      <td>...</td>\n",
       "      <td>...</td>\n",
       "      <td>...</td>\n",
       "    </tr>\n",
       "    <tr>\n",
       "      <th>13208</th>\n",
       "      <td>Sant Martí</td>\n",
       "      <td>11</td>\n",
       "      <td>Female</td>\n",
       "    </tr>\n",
       "    <tr>\n",
       "      <th>13209</th>\n",
       "      <td>Sant Martí</td>\n",
       "      <td>41</td>\n",
       "      <td>Female</td>\n",
       "    </tr>\n",
       "    <tr>\n",
       "      <th>13210</th>\n",
       "      <td>Sant Martí</td>\n",
       "      <td>28</td>\n",
       "      <td>Female</td>\n",
       "    </tr>\n",
       "    <tr>\n",
       "      <th>13211</th>\n",
       "      <td>Sant Martí</td>\n",
       "      <td>57</td>\n",
       "      <td>Female</td>\n",
       "    </tr>\n",
       "    <tr>\n",
       "      <th>13212</th>\n",
       "      <td>Sant Martí</td>\n",
       "      <td>54</td>\n",
       "      <td>Female</td>\n",
       "    </tr>\n",
       "  </tbody>\n",
       "</table>\n",
       "<p>13213 rows × 3 columns</p>\n",
       "</div>"
      ],
      "text/plain": [
       "           District Population  Gender\n",
       "0      Ciutat Vella        224    Male\n",
       "1      Ciutat Vella         50    Male\n",
       "2      Ciutat Vella         43    Male\n",
       "3      Ciutat Vella         95    Male\n",
       "4          Eixample        124    Male\n",
       "...             ...        ...     ...\n",
       "13208    Sant Martí         11  Female\n",
       "13209    Sant Martí         41  Female\n",
       "13210    Sant Martí         28  Female\n",
       "13211    Sant Martí         57  Female\n",
       "13212    Sant Martí         54  Female\n",
       "\n",
       "[13213 rows x 3 columns]"
      ]
     },
     "execution_count": 90,
     "metadata": {},
     "output_type": "execute_result"
    }
   ],
   "source": [
    "df2 = pd.DataFrame(list(zip(distritos,poblacion,Gender)),columns=columns)\n",
    "df2"
   ]
  },
  {
   "cell_type": "code",
   "execution_count": null,
   "metadata": {},
   "outputs": [],
   "source": []
  },
  {
   "cell_type": "code",
   "execution_count": 93,
   "metadata": {},
   "outputs": [
    {
     "data": {
      "text/plain": [
       "(array([0, 1, 2, 3, 4, 5, 6, 7, 8, 9]),\n",
       " [Text(0, 0, 'Ciutat Vella'),\n",
       "  Text(1, 0, 'Eixample'),\n",
       "  Text(2, 0, 'Sants-Montjuïc'),\n",
       "  Text(3, 0, 'Les Corts'),\n",
       "  Text(4, 0, 'Sarrià-Sant Gervasi'),\n",
       "  Text(5, 0, 'Gràcia'),\n",
       "  Text(6, 0, 'Horta-Guinardó'),\n",
       "  Text(7, 0, 'Nou Barris'),\n",
       "  Text(8, 0, 'Sant Andreu'),\n",
       "  Text(9, 0, 'Sant Martí')])"
      ]
     },
     "execution_count": 93,
     "metadata": {},
     "output_type": "execute_result"
    },
    {
     "data": {
      "text/plain": [
       "<Figure size 1500x600 with 0 Axes>"
      ]
     },
     "metadata": {},
     "output_type": "display_data"
    },
    {
     "data": {
      "image/png": "[encoded data removed]",
      "text/plain": [
       "<Figure size 640x480 with 1 Axes>"
      ]
     },
     "metadata": {},
     "output_type": "display_data"
    }
   ],
   "source": [
    "plt.figure(figsize=(15,6))\n",
    "fig, ax = plt.subplots()\n",
    "sns.countplot(data=df2, x='District')\n",
    "plt.xticks(rotation=45)\n",
    "    "
   ]
  }
 ],
 "metadata": {
  "kernelspec": {
   "display_name": "barcelona_dashboard",
   "language": "python",
   "name": "python3"
  },
  "language_info": {
   "codemirror_mode": {
    "name": "ipython",
    "version": 3
   },
   "file_extension": ".py",
   "mimetype": "text/x-python",
   "name": "python",
   "nbconvert_exporter": "python",
   "pygments_lexer": "ipython3",
   "version": "3.10.9"
  },
  "orig_nbformat": 4,
  "vscode": {
   "interpreter": {
    "hash": "b947286ba3d15da99ec29fd167380bf9ad51e228815d9dbd50cb9039a6b21789"
   }
  }
 },
 "nbformat": 4,
 "nbformat_minor": 2
}
