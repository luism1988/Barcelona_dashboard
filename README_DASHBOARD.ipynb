{
 "cells": [
  {
   "cell_type": "markdown",
   "id": "3df1782e",
   "metadata": {},
   "source": [
    "# Readme: Barcelona Dashboard"
   ]
  },
  {
   "cell_type": "markdown",
   "id": "543e2472",
   "metadata": {},
   "source": [
    "Objetivo:"
   ]
  },
  {
   "attachments": {},
   "cell_type": "markdown",
   "id": "5045dfdc",
   "metadata": {},
   "source": [
    "Objetivo: El objetivo de este fichero es conocer los datos, realizar una lista de todos aquellos graficos que deseo mostrar en el Barcelona_Dashboar."
   ]
  },
  {
   "attachments": {},
   "cell_type": "markdown",
   "id": "37909342",
   "metadata": {},
   "source": [
    "Lista de posibles graficos a realizar:\n",
    "1-En la pagina principal mostrar: \n",
    "    -un diagrama de barras con los distritos de la ciudad y su población, dar la opción de estratificar por  alguna variable como genero \n",
    "    -Mostrar en el mapa la ubicacion del centro de cada distrito de la ciudad.Nota: esta data no la tengo,seria las estaciones de buses o las\n",
    "\n",
    "2-Seleccionar dos distrito para compararlos con la siguiente información:(Creo que seria un diagrama de barras)\n",
    "    -población\n",
    "    -población estratificada por genero\n",
    "    -población por edades\n",
    "    -número de estaciones de bus, tren, metro etc.\n",
    "    -pintar las estaciones de bus en el mapa.\n",
    "    \n",
    "3-Crear un radar_plot, donde se selecciones distintos distritos y que se comparen algunas caracteristicas como:\n",
    "    -nacimientos\n",
    "    -muertes\n",
    "    -accidentes\n",
    "    -expectativa de vida\n",
    "    -calidad de aire\n",
    "    -desempleo\n",
    "    \n",
    "    "
   ]
  }
 ],
 "metadata": {
  "kernelspec": {
   "display_name": "Python 3 (ipykernel)",
   "language": "python",
   "name": "python3"
  },
  "language_info": {
   "codemirror_mode": {
    "name": "ipython",
    "version": 3
   },
   "file_extension": ".py",
   "mimetype": "text/x-python",
   "name": "python",
   "nbconvert_exporter": "python",
   "pygments_lexer": "ipython3",
   "version": "3.9.15"
  }
 },
 "nbformat": 4,
 "nbformat_minor": 5
}
