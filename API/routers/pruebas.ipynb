{
 "cells": [
  {
   "cell_type": "code",
   "execution_count": 21,
   "metadata": {},
   "outputs": [],
   "source": [
    "list = [{\"District\":{\"Name\":\"Ciutat Vella\"},\"Number\":\"227\"},{\"District\":{\"Name\":\"Ciutat Vella\"},\"Number\":\"49\"},{\"District\":{\"Name\":\"Ciutat Vella\"},\"Number\":\"50\"},{\"District\":{\"Name\":\"Ciutat Vella\"},\"Number\":\"78\"},{\"District\":{\"Name\":\"Eixample\"},\"Number\":\"120\"},{\"District\":{\"Name\":\"Eixample\"},\"Number\":\"221\"},{\"District\":{\"Name\":\"Eixample\"},\"Number\":\"165\"},{\"District\":{\"Name\":\"Eixample\"},\"Number\":\"125\"},{\"District\":{\"Name\":\"Eixample\"},\"Number\":\"200\"},{\"District\":{\"Name\":\"Eixample\"},\"Number\":\"149\"}]\n",
    "{'Ciutat Vella': 78, 'Eixample': 149}"
   ]
  },
  {
   "cell_type": "code",
   "execution_count": 38,
   "metadata": {},
   "outputs": [
    {
     "data": {
      "text/plain": [
       "'Ciutat Vella'"
      ]
     },
     "execution_count": 38,
     "metadata": {},
     "output_type": "execute_result"
    }
   ],
   "source": [
    "#a =list[0][\"District\"].values()\n",
    "list[0][\"District\"][\"Name\"]\n",
    "#int(list[0][\"Number\"])"
   ]
  },
  {
   "cell_type": "code",
   "execution_count": null,
   "metadata": {},
   "outputs": [],
   "source": [
    "list[0][\"District\"].values()"
   ]
  },
  {
   "cell_type": "code",
   "execution_count": 1,
   "metadata": {},
   "outputs": [],
   "source": [
    "import plotly.io as pio\n",
    "import plotly.graph_objs as go\n",
    "import plotly_express as px\n",
    "import matplotlib.pyplot as plt"
   ]
  },
  {
   "cell_type": "code",
   "execution_count": 47,
   "metadata": {},
   "outputs": [],
   "source": [
    "import matplotlib.pyplot as plt"
   ]
  },
  {
   "cell_type": "code",
   "execution_count": 51,
   "metadata": {},
   "outputs": [],
   "source": [
    "district_dict = {}\n",
    "for element in list:\n",
    "    if not element[\"District\"][\"Name\"] in district_dict.keys():\n",
    "        district_dict[element[\"District\"][\"Name\"]] =int(element[\"Number\"])\n",
    "    else:\n",
    "        a =district_dict[element[\"District\"][\"Name\"]]\n",
    "        district_dict[element[\"District\"][\"Name\"]] += int(element[\"Number\"])\n",
    " "
   ]
  },
  {
   "cell_type": "code",
   "execution_count": 52,
   "metadata": {},
   "outputs": [
    {
     "data": {
      "text/plain": [
       "{'Ciutat Vella': 404, 'Eixample': 980}"
      ]
     },
     "execution_count": 52,
     "metadata": {},
     "output_type": "execute_result"
    }
   ],
   "source": [
    "district_dict "
   ]
  },
  {
   "cell_type": "code",
   "execution_count": 53,
   "metadata": {},
   "outputs": [
    {
     "name": "stdout",
     "output_type": "stream",
     "text": [
      "['Ciutat Vella', 'Eixample'] [404, 980]\n"
     ]
    }
   ],
   "source": [
    "x = []\n",
    "y = []\n",
    "\n",
    "for element in district_dict:\n",
    "    x.append(element)\n",
    "    y.append(district_dict[element])\n",
    "\n",
    "print(x,y)"
   ]
  },
  {
   "cell_type": "code",
   "execution_count": 48,
   "metadata": {},
   "outputs": [
    {
     "data": {
      "image/png": "[encoded data removed]",
      "text/plain": [
       "<Figure size 1200x600 with 1 Axes>"
      ]
     },
     "metadata": {},
     "output_type": "display_data"
    }
   ],
   "source": [
    "plt.figure(figsize=(12,6))\n",
    "plt.bar(district_dict.keys(), district_dict.values())\n",
    "plt.show()\n",
    "\n",
    "\n"
   ]
  },
  {
   "cell_type": "code",
   "execution_count": null,
   "metadata": {},
   "outputs": [],
   "source": [
    "def bar_plot(dic)\n",
    "    plt.figure(figsize=(12,6))\n",
    "    plt.bar(dic.keys(), dic.values())\n",
    "    return plt.show()"
   ]
  }
 ],
 "metadata": {
  "kernelspec": {
   "display_name": "barcelona_dashboard",
   "language": "python",
   "name": "python3"
  },
  "language_info": {
   "codemirror_mode": {
    "name": "ipython",
    "version": 3
   },
   "file_extension": ".py",
   "mimetype": "text/x-python",
   "name": "python",
   "nbconvert_exporter": "python",
   "pygments_lexer": "ipython3",
   "version": "3.10.9"
  },
  "orig_nbformat": 4,
  "vscode": {
   "interpreter": {
    "hash": "b947286ba3d15da99ec29fd167380bf9ad51e228815d9dbd50cb9039a6b21789"
   }
  }
 },
 "nbformat": 4,
 "nbformat_minor": 2
}
