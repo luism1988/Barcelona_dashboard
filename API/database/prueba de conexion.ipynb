{
 "cells": [
  {
   "cell_type": "code",
   "execution_count": 1,
   "metadata": {},
   "outputs": [],
   "source": [
    "from pymongo import MongoClient\n",
    "from dotenv import load_dotenv\n",
    "import os\n",
    "\n",
    "load_dotenv()\n",
    "\n",
    "client = MongoClient(os.getenv(\"URL\"))\n",
    "db = client.get_database(\"barcelona\")"
   ]
  },
  {
   "cell_type": "code",
   "execution_count": 2,
   "metadata": {},
   "outputs": [],
   "source": [
    "population = db.population\n"
   ]
  },
  {
   "cell_type": "code",
   "execution_count": 3,
   "metadata": {},
   "outputs": [
    {
     "data": {
      "text/plain": [
       "[{'_id': ObjectId('63f4aa55e21d47e9033eea27'),\n",
       "  'Year': '2017',\n",
       "  'District': {'Code': '1', 'Name': 'Ciutat Vella'},\n",
       "  'Neighborhood': {'Code': '1', 'Name': 'el Raval'},\n",
       "  'Gender': 'Male',\n",
       "  'Age': '0-4',\n",
       "  'Number': '224'},\n",
       " {'_id': ObjectId('63f4aa55e21d47e9033eea28'),\n",
       "  'Year': '2017',\n",
       "  'District': {'Code': '1', 'Name': 'Ciutat Vella'},\n",
       "  'Neighborhood': {'Code': '2', 'Name': 'el Barri Gòtic'},\n",
       "  'Gender': 'Male',\n",
       "  'Age': '0-4',\n",
       "  'Number': '50'}]"
      ]
     },
     "execution_count": 3,
     "metadata": {},
     "output_type": "execute_result"
    }
   ],
   "source": [
    "list(population.find({}))[0:2]\n"
   ]
  }
 ],
 "metadata": {
  "kernelspec": {
   "display_name": "barcelona_dashboard",
   "language": "python",
   "name": "python3"
  },
  "language_info": {
   "codemirror_mode": {
    "name": "ipython",
    "version": 3
   },
   "file_extension": ".py",
   "mimetype": "text/x-python",
   "name": "python",
   "nbconvert_exporter": "python",
   "pygments_lexer": "ipython3",
   "version": "3.10.9"
  },
  "orig_nbformat": 4,
  "vscode": {
   "interpreter": {
    "hash": "b947286ba3d15da99ec29fd167380bf9ad51e228815d9dbd50cb9039a6b21789"
   }
  }
 },
 "nbformat": 4,
 "nbformat_minor": 2
}
