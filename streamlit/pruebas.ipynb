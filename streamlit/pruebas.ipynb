{
 "cells": [
  {
   "cell_type": "code",
   "execution_count": 2,
   "metadata": {},
   "outputs": [],
   "source": [
    "import streamlit as st\n",
    "import streamlit.components.v1 as components\n",
    "import pandas as pd\n",
    "\n",
    "\n",
    "from data.get_data import get_district_coordinates,get_district\n",
    "from data.graph import  district_map\n",
    "from streamlit_folium import folium_static\n",
    "import matplotlib.pyplot as plt\n",
    "import seaborn as sns\n",
    "\n",
    "\n"
   ]
  },
  {
   "cell_type": "code",
   "execution_count": 6,
   "metadata": {},
   "outputs": [],
   "source": [
    "year = 2017\n",
    "district_population = get_district(year)\n",
    "df = pd.DataFrame(district_population)\n"
   ]
  },
  {
   "cell_type": "code",
   "execution_count": 7,
   "metadata": {},
   "outputs": [
    {
     "data": {
      "text/html": [
       "<div>\n",
       "<style scoped>\n",
       "    .dataframe tbody tr th:only-of-type {\n",
       "        vertical-align: middle;\n",
       "    }\n",
       "\n",
       "    .dataframe tbody tr th {\n",
       "        vertical-align: top;\n",
       "    }\n",
       "\n",
       "    .dataframe thead th {\n",
       "        text-align: right;\n",
       "    }\n",
       "</style>\n",
       "<table border=\"1\" class=\"dataframe\">\n",
       "  <thead>\n",
       "    <tr style=\"text-align: right;\">\n",
       "      <th></th>\n",
       "      <th>Year</th>\n",
       "      <th>District</th>\n",
       "      <th>Neighborhood</th>\n",
       "      <th>Gender</th>\n",
       "      <th>Age</th>\n",
       "      <th>Number</th>\n",
       "    </tr>\n",
       "  </thead>\n",
       "  <tbody>\n",
       "    <tr>\n",
       "      <th>0</th>\n",
       "      <td>2017</td>\n",
       "      <td>{'Code': '1', 'Name': 'Ciutat Vella'}</td>\n",
       "      <td>{'Code': '1', 'Name': 'el Raval'}</td>\n",
       "      <td>Male</td>\n",
       "      <td>0-4</td>\n",
       "      <td>224</td>\n",
       "    </tr>\n",
       "    <tr>\n",
       "      <th>1</th>\n",
       "      <td>2017</td>\n",
       "      <td>{'Code': '1', 'Name': 'Ciutat Vella'}</td>\n",
       "      <td>{'Code': '2', 'Name': 'el Barri Gòtic'}</td>\n",
       "      <td>Male</td>\n",
       "      <td>0-4</td>\n",
       "      <td>50</td>\n",
       "    </tr>\n",
       "    <tr>\n",
       "      <th>2</th>\n",
       "      <td>2017</td>\n",
       "      <td>{'Code': '1', 'Name': 'Ciutat Vella'}</td>\n",
       "      <td>{'Code': '3', 'Name': 'la Barceloneta'}</td>\n",
       "      <td>Male</td>\n",
       "      <td>0-4</td>\n",
       "      <td>43</td>\n",
       "    </tr>\n",
       "    <tr>\n",
       "      <th>3</th>\n",
       "      <td>2017</td>\n",
       "      <td>{'Code': '1', 'Name': 'Ciutat Vella'}</td>\n",
       "      <td>{'Code': '4', 'Name': 'Sant Pere, Santa Cateri...</td>\n",
       "      <td>Male</td>\n",
       "      <td>0-4</td>\n",
       "      <td>95</td>\n",
       "    </tr>\n",
       "    <tr>\n",
       "      <th>4</th>\n",
       "      <td>2017</td>\n",
       "      <td>{'Code': '2', 'Name': 'Eixample'}</td>\n",
       "      <td>{'Code': '5', 'Name': 'el Fort Pienc'}</td>\n",
       "      <td>Male</td>\n",
       "      <td>0-4</td>\n",
       "      <td>124</td>\n",
       "    </tr>\n",
       "  </tbody>\n",
       "</table>\n",
       "</div>"
      ],
      "text/plain": [
       "   Year                               District  \\\n",
       "0  2017  {'Code': '1', 'Name': 'Ciutat Vella'}   \n",
       "1  2017  {'Code': '1', 'Name': 'Ciutat Vella'}   \n",
       "2  2017  {'Code': '1', 'Name': 'Ciutat Vella'}   \n",
       "3  2017  {'Code': '1', 'Name': 'Ciutat Vella'}   \n",
       "4  2017      {'Code': '2', 'Name': 'Eixample'}   \n",
       "\n",
       "                                        Neighborhood Gender  Age Number  \n",
       "0                  {'Code': '1', 'Name': 'el Raval'}   Male  0-4    224  \n",
       "1            {'Code': '2', 'Name': 'el Barri Gòtic'}   Male  0-4     50  \n",
       "2            {'Code': '3', 'Name': 'la Barceloneta'}   Male  0-4     43  \n",
       "3  {'Code': '4', 'Name': 'Sant Pere, Santa Cateri...   Male  0-4     95  \n",
       "4             {'Code': '5', 'Name': 'el Fort Pienc'}   Male  0-4    124  "
      ]
     },
     "execution_count": 7,
     "metadata": {},
     "output_type": "execute_result"
    }
   ],
   "source": [
    "df.head()"
   ]
  },
  {
   "cell_type": "code",
   "execution_count": 20,
   "metadata": {},
   "outputs": [],
   "source": [
    "def df_format_fixer(df):\n",
    "    distritos = []\n",
    "    poblacion = []\n",
    "    Gender = []\n",
    "    columns = [\"District\",\"Population\",\"Gender\"]\n",
    "    for i in df[\"Number\"]:\n",
    "        poblacion.append(int(i))\n",
    "    for i in df[\"District\"]: \n",
    "        distritos.append(i[\"Name\"])\n",
    "    for i in df[\"Gender\"]: \n",
    "        Gender.append(i)\n",
    "    df_fixed = pd.DataFrame(list(zip(distritos,poblacion,Gender)),columns=columns)\n",
    "    return df_fixed\n",
    "\n",
    "\n",
    "\n",
    "\n",
    "\n",
    "\n",
    "\n",
    "  \n",
    "\n",
    "\n",
    "\n"
   ]
  },
  {
   "cell_type": "code",
   "execution_count": 18,
   "metadata": {},
   "outputs": [
    {
     "ename": "NameError",
     "evalue": "name 'poblacion' is not defined",
     "output_type": "error",
     "traceback": [
      "\u001b[0;31m---------------------------------------------------------------------------\u001b[0m",
      "\u001b[0;31mNameError\u001b[0m                                 Traceback (most recent call last)",
      "Cell \u001b[0;32mIn [18], line 2\u001b[0m\n\u001b[1;32m      1\u001b[0m \u001b[39m#distritos[:10]\u001b[39;00m\n\u001b[0;32m----> 2\u001b[0m poblacion[:\u001b[39m10\u001b[39m]\n",
      "\u001b[0;31mNameError\u001b[0m: name 'poblacion' is not defined"
     ]
    }
   ],
   "source": [
    "#distritos[:10]\n",
    "poblacion[:10]"
   ]
  },
  {
   "cell_type": "code",
   "execution_count": 21,
   "metadata": {},
   "outputs": [
    {
     "ename": "NameError",
     "evalue": "name 'distritos' is not defined",
     "output_type": "error",
     "traceback": [
      "\u001b[0;31m---------------------------------------------------------------------------\u001b[0m",
      "\u001b[0;31mNameError\u001b[0m                                 Traceback (most recent call last)",
      "Cell \u001b[0;32mIn [21], line 1\u001b[0m\n\u001b[0;32m----> 1\u001b[0m df2 \u001b[39m=\u001b[39m pd\u001b[39m.\u001b[39mDataFrame(\u001b[39mlist\u001b[39m(\u001b[39mzip\u001b[39m(distritos,poblacion,Gender)),columns\u001b[39m=\u001b[39mcolumns)\n\u001b[1;32m      2\u001b[0m df2\n",
      "\u001b[0;31mNameError\u001b[0m: name 'distritos' is not defined"
     ]
    }
   ],
   "source": [
    "df2 = pd.DataFrame(list(zip(distritos,poblacion,Gender)),columns=columns)\n",
    "df2"
   ]
  },
  {
   "cell_type": "code",
   "execution_count": 22,
   "metadata": {},
   "outputs": [],
   "source": [
    "df2 = df_format_fixer(df)"
   ]
  },
  {
   "cell_type": "code",
   "execution_count": 35,
   "metadata": {},
   "outputs": [],
   "source": [
    "df3 = df2.groupby(\"District\").sum().reset_index()"
   ]
  },
  {
   "cell_type": "code",
   "execution_count": 36,
   "metadata": {},
   "outputs": [
    {
     "data": {
      "text/html": [
       "<div>\n",
       "<style scoped>\n",
       "    .dataframe tbody tr th:only-of-type {\n",
       "        vertical-align: middle;\n",
       "    }\n",
       "\n",
       "    .dataframe tbody tr th {\n",
       "        vertical-align: top;\n",
       "    }\n",
       "\n",
       "    .dataframe thead th {\n",
       "        text-align: right;\n",
       "    }\n",
       "</style>\n",
       "<table border=\"1\" class=\"dataframe\">\n",
       "  <thead>\n",
       "    <tr style=\"text-align: right;\">\n",
       "      <th></th>\n",
       "      <th>District</th>\n",
       "      <th>Population</th>\n",
       "    </tr>\n",
       "  </thead>\n",
       "  <tbody>\n",
       "    <tr>\n",
       "      <th>0</th>\n",
       "      <td>Ciutat Vella</td>\n",
       "      <td>98232</td>\n",
       "    </tr>\n",
       "    <tr>\n",
       "      <th>1</th>\n",
       "      <td>Eixample</td>\n",
       "      <td>258152</td>\n",
       "    </tr>\n",
       "    <tr>\n",
       "      <th>2</th>\n",
       "      <td>Gràcia</td>\n",
       "      <td>117227</td>\n",
       "    </tr>\n",
       "    <tr>\n",
       "      <th>3</th>\n",
       "      <td>Horta-Guinardó</td>\n",
       "      <td>161921</td>\n",
       "    </tr>\n",
       "    <tr>\n",
       "      <th>4</th>\n",
       "      <td>Les Corts</td>\n",
       "      <td>79888</td>\n",
       "    </tr>\n",
       "    <tr>\n",
       "      <th>5</th>\n",
       "      <td>Nou Barris</td>\n",
       "      <td>159214</td>\n",
       "    </tr>\n",
       "    <tr>\n",
       "      <th>6</th>\n",
       "      <td>Sant Andreu</td>\n",
       "      <td>143246</td>\n",
       "    </tr>\n",
       "    <tr>\n",
       "      <th>7</th>\n",
       "      <td>Sant Martí</td>\n",
       "      <td>227989</td>\n",
       "    </tr>\n",
       "    <tr>\n",
       "      <th>8</th>\n",
       "      <td>Sants-Montjuïc</td>\n",
       "      <td>174478</td>\n",
       "    </tr>\n",
       "    <tr>\n",
       "      <th>9</th>\n",
       "      <td>Sarrià-Sant Gervasi</td>\n",
       "      <td>143967</td>\n",
       "    </tr>\n",
       "  </tbody>\n",
       "</table>\n",
       "</div>"
      ],
      "text/plain": [
       "              District  Population\n",
       "0         Ciutat Vella       98232\n",
       "1             Eixample      258152\n",
       "2               Gràcia      117227\n",
       "3       Horta-Guinardó      161921\n",
       "4            Les Corts       79888\n",
       "5           Nou Barris      159214\n",
       "6          Sant Andreu      143246\n",
       "7           Sant Martí      227989\n",
       "8       Sants-Montjuïc      174478\n",
       "9  Sarrià-Sant Gervasi      143967"
      ]
     },
     "execution_count": 36,
     "metadata": {},
     "output_type": "execute_result"
    }
   ],
   "source": [
    "df3"
   ]
  },
  {
   "cell_type": "code",
   "execution_count": 38,
   "metadata": {},
   "outputs": [
    {
     "data": {
      "text/plain": [
       "(array([0, 1, 2, 3, 4, 5, 6, 7, 8, 9]),\n",
       " [Text(0, 0, 'Ciutat Vella'),\n",
       "  Text(1, 0, 'Eixample'),\n",
       "  Text(2, 0, 'Gràcia'),\n",
       "  Text(3, 0, 'Horta-Guinardó'),\n",
       "  Text(4, 0, 'Les Corts'),\n",
       "  Text(5, 0, 'Nou Barris'),\n",
       "  Text(6, 0, 'Sant Andreu'),\n",
       "  Text(7, 0, 'Sant Martí'),\n",
       "  Text(8, 0, 'Sants-Montjuïc'),\n",
       "  Text(9, 0, 'Sarrià-Sant Gervasi')])"
      ]
     },
     "execution_count": 38,
     "metadata": {},
     "output_type": "execute_result"
    },
    {
     "data": {
      "text/plain": [
       "<Figure size 1500x600 with 0 Axes>"
      ]
     },
     "metadata": {},
     "output_type": "display_data"
    },
    {
     "data": {
      "image/png": "[encoded data removed]",
      "text/plain": [
       "<Figure size 640x480 with 1 Axes>"
      ]
     },
     "metadata": {},
     "output_type": "display_data"
    }
   ],
   "source": [
    "plt.figure(figsize=(15,6))\n",
    "fig, ax = plt.subplots()\n",
    "sns.barplot(data=df3, x='District',y='Population')\n",
    "plt.xticks(rotation=45)\n",
    "    "
   ]
  },
  {
   "cell_type": "code",
   "execution_count": 16,
   "metadata": {},
   "outputs": [],
   "source": [
    "\"\"\"coordinates_dict =[\n",
    "        {\"Name\":\"Ciutat Vella\",\"coordinates\": [41.38022, 2.17319]},\n",
    "        {\"Name\":\"Sants-Montjuïc\",\"coordinates\": [41.37263, 2.1546]},\n",
    "        {\"Name\":\"Eixample\",\"coordinates\": [41.38896, 2.16179]},\n",
    "        {\"Name\":\"Les Corts\",\"coordinates\": [41.38845,2.12171]},\n",
    "        {\"Name\":\"Sarrià-Sant Gervasi\",\"coordinates\": [41.40237, 2.15641]},\n",
    "        {\"Name\":\"Gràcia\",\"coordinates\": [41.40237, 2.15641]},\n",
    "        {\"Name\":\"Horta-Guinardó\",\"coordinates\": [41.41849, 2.1677]},\n",
    "        {\"Name\":\"Nou Barris\",\"coordinates\": [41.44163, 2.17727]},\n",
    "        {\"Name\":\"Sant Andreu\",\"coordinates\": [41.43541, 2.18982]},\n",
    "        {\"Name\":\"Sant Martí\",\"coordinates\": [41.41814, 2.19933]}\n",
    "        ]\"\"\"\n",
    "coordinates_dict =[\n",
    "        {\"Name\":\"Ciutat Vella\",\"latitude\":41.38022, \"Longitude\":2.17319},\n",
    "        {\"Name\":\"Sants-Montjuïc\",\"latitude\":41.37263, \"Longitude\":2.1546},\n",
    "        {\"Name\":\"Eixample\",\"latitude\":41.38896, \"Longitude\":2.16179},\n",
    "        {\"Name\":\"Les Corts\",\"latitude\":41.38845, \"Longitude\":2.12171},\n",
    "        {\"Name\":\"Sarrià-Sant Gervasi\",\"latitude\":41.40237, \"Longitude\":2.15641},\n",
    "        {\"Name\":\"Gràcia\",\"latitude\":41.40237, \"Longitude\": 2.15641},\n",
    "        {\"Name\":\"Horta-Guinardó\",\"latitude\":41.41849,\"Longitude\": 2.1677},\n",
    "        {\"Name\":\"Nou Barris\",\"latitude\":41.44163, \"Longitude\":2.17727},\n",
    "        {\"Name\":\"Sant Andreu\",\"latitude\":41.43541,\"Longitude\": 2.18982},\n",
    "        {\"Name\":\"Sant Martí\",\"latitude\":41.41814,\"Longitude\": 2.19933}\n",
    "        ]\n",
    "\n"
   ]
  },
  {
   "cell_type": "code",
   "execution_count": 15,
   "metadata": {},
   "outputs": [],
   "source": [
    "coordinates_district = get_district_coordinates()"
   ]
  },
  {
   "cell_type": "code",
   "execution_count": 17,
   "metadata": {},
   "outputs": [],
   "source": [
    "def get_coordenates(list):\n",
    "    res = []\n",
    "    for i in list:\n",
    "        res.append({\"Name\":i[\"Name\"],\"coordinates\": [i[\"latitude\"], i[\"Longitude\"]]})\n",
    "    return res\n",
    "\n",
    "\n"
   ]
  },
  {
   "cell_type": "code",
   "execution_count": 18,
   "metadata": {},
   "outputs": [
    {
     "data": {
      "text/plain": [
       "[{'Name': 'Ciutat Vella', 'coordinates': [41.38022, 2.17319]},\n",
       " {'Name': 'Sants-Montjuïc', 'coordinates': [41.37263, 2.1546]},\n",
       " {'Name': 'Eixample', 'coordinates': [41.38896, 2.16179]},\n",
       " {'Name': 'Les Corts', 'coordinates': [41.38845, 2.12171]},\n",
       " {'Name': 'Sarrià-Sant Gervasi', 'coordinates': [41.40237, 2.15641]},\n",
       " {'Name': 'Gràcia', 'coordinates': [41.40237, 2.15641]},\n",
       " {'Name': 'Horta-Guinardó', 'coordinates': [41.41849, 2.1677]},\n",
       " {'Name': 'Nou Barris', 'coordinates': [41.44163, 2.17727]},\n",
       " {'Name': 'Sant Andreu', 'coordinates': [41.43541, 2.18982]},\n",
       " {'Name': 'Sant Martí', 'coordinates': [41.41814, 2.19933]}]"
      ]
     },
     "execution_count": 18,
     "metadata": {},
     "output_type": "execute_result"
    }
   ],
   "source": [
    "get_coordenates(coordinates_dict)"
   ]
  },
  {
   "cell_type": "code",
   "execution_count": null,
   "metadata": {},
   "outputs": [],
   "source": [
    "[\n",
    "{\"Name\": 'el Raval', \"latitude\":41.37951, \"Longitude\": 2.16836},\n",
    "{\"Name\": 'el Barri Gòtic', \"latitude\": \t41.38339,\"Longitude\": 2.17691},\n",
    "{\"Name\": 'la Barceloneta', \"latitude\": \t41.3806533, \"Longitude\": 2.1899274},\n",
    "{\"Name\": 'Sant Pere, Santa Caterina i la Ribera', \"latitude\": 41.3883219, \"Longitude\": 2.1774107},\n",
    "{\"Name\": 'el Fort Pienc', \"latitude\": 41.3959246, \"Longitude\": 2.1823245},\n",
    "{\"Name\": 'la Sagrada Família', \"latitude\": 41.4034789, \"Longitude\": 2.174410},\n",
    "{\"Name\": \"la Dreta de l'Eixample\", \"latitude\": 41.3950373, \"Longitude\": 2.1672069},\n",
    "{\"Name\": \"l'Antiga Esquerra de l'Eixample\", \"latitude\": 41.39, \"Longitude\":2.155},\n",
    "{\"Name\": \"la Nova Esquerra de l'Eixample\", \"latitude\": 0, \"Longitude\": 0},\n",
    "{\"Name\": 'Sant Antoni', \"latitude\": 41.3800525, \"Longitude\": 2.1633268},\n",
    "{\"Name\": 'el Poble Sec', \"latitude\": 41.3749795, \"Longitude\": 2.1605721},\n",
    "{\"Name\": 'la Marina del Prat Vermell', \"latitude\": 41.3538419, \"Longitude\": 2.1423184},\n",
    "{\"Name\": 'la Marina de Port', 'latitude': 41.3602964, \"Longitude\": 2.1375842},\n",
    "{\"Name\": 'la Font de la Guatlla', \"latitude\": \t41.3707824, \"Longitude\": 2.1446756},\n",
    "{\"Name\": 'Hostafrancs', \"latitude\": 41.3752539, \"Longitude\": 2.1433476},\n",
    "{\"Name\": 'la Bordeta', \"latitude\": \t41.3691417, \"Longitude\": 2.1373733},\n",
    "{\"Name\": 'Sants - Badal', \"latitude\": 41.375466, \"Longitude\": 2.1277096},\n",
    "{\"Name\": 'Sants', \"latitude\": 41.3753288, \"Longitude\": 2.1349117},\n",
    "{\"Name\": 'les Corts', \"latitude\": 41.3884524, \"Longitude\": \t2.12171825426451},\n",
    "{\"Name\": 'la Maternitat i Sant Ramon', \"latitude\": 41.38197505, \"Longitude\": 2.11547363754403},\n",
    "{\"Name\": 'Pedralbes', \"latitude\": 41.3901401, \"Longitude\": 2.112218},\n",
    "{\"Name\": 'Vallvidrera, el Tibidabo i les Planes', \"latitude\": 41.4150674, \"Longitude\":2.1074824 },\n",
    "{\"Name\": 'Sarrià', \"latitude\": 41.399373, \"Longitude\": 2.1215125},\n",
    "{\"Name\": 'les Tres Torres', \"latitude\": 41.3976108, \"Longitude\": 2.1311837},\n",
    "{\"Name\": 'Sant Gervasi - la Bonanova', \"latitude\": \t41.4059829, \"Longitude\": 2.1334046},\n",
    "{\"Name\": 'Sant Gervasi - Galvany', \"latitude\": 41.39780685, \"Longitude\": 2.14338538868091},\n",
    "{\"Name\": 'el Putxet i el Farró', \"latitude\": 41.40731705, \"Longitude\": 2.14342428382936},\n",
    "{\"Name\": 'Vallcarca i els Penitents', \"latitude\": 41.41571215, \"Longitude\": 2.14146925844434},\n",
    "{\"Name\": 'la Salut', \"latitude\": \t41.4428167, \"Longitude\": 2.2246942},\n",
    "{\"Name\": 'la Vila de Gràcia', \"latitude\": \t41.4031783, \"Longitude\": 2.1571662},\n",
    "{\"Name\": \"el Camp d'en Grassot i Gràcia Nova\", \"latitude\": 41.4045889, \"Longitude\": 2.1667806},\n",
    "{\"Name\": 'el Baix Guinardó', \"latitude\": 41.4114374, \"Longitude\": 2.1686512},\n",
    "{\"Name\": 'Can Baró', \"latitude\": 41.4160925, \"Longitude\": 2.1624018},\n",
    "{\"Name\": 'el Guinardó', \"latitude\": 41.4177335, \"Longitude\": 2.1736316},\n",
    "{\"Name\": \"la Font d'en Fargues\", \"latitude\": 41.425788, \"Longitude\": 2.1659152},\n",
    "{\"Name\": 'el Carmel', \"latitude\": 41.4256037, \"Longitude\": 2.1549579},\n",
    "{\"Name\": 'la Teixonera', \"latitude\": 41.423173, \"Longitude\": 2.1459698},\n",
    "{\"Name\": 'Sant Genís dels Agudells', \"latitude\": 41.4264567, \"Longitude\": 2.1374905},\n",
    "{\"Name\": 'Montbau', \"latitude\": 41.4295504, \"Longitude\": 2.1445379},\n",
    "{\"Name\": \"la Vall d'Hebron\", \"latitude\": 41.4303788, \"Longitude\": 2.1486244},\n",
    "{\"Name\": 'la Clota', \"latitude\": 41.4278574, \"Longitude\":2.1524066 },\n",
    "{\"Name\": 'Horta', \"latitude\": 41.4296898, \"Longitude\": 2.1603155},\n",
    "{\"Name\": 'Vilapicina i la Torre Llobeta', \"latitude\": 41.4300186, \"Longitude\": 2.1760694},\n",
    "{\"Name\": 'Porta', \"latitude\": 41.4331882, \"Longitude\": 2.1760336},\n",
    "{\"Name\": 'el Turó de la Peira',\"latitude\": 41.4323672, \"Longitude\": 2.1690681},\n",
    "{\"Name\": 'Can Peguera', \"latitude\": 41.4348568, \"Longitude\":2.1657848 },\n",
    "{\"Name\": 'la Guineueta', \"latitude\": 41.4403026, \"Longitude\": 2.1704023},\n",
    "{\"Name\": 'Canyelles', \"latitude\": 41.2858273, \"Longitude\": 1.7222743},\n",
    "{\"Name\": 'les Roquetes', \"latitude\": 41.4477984, \"Longitude\": 2.1762713},\n",
    "{\"Name\": 'Verdun', \"latitude\": \t41.4440404, \"Longitude\": 2.1758401},\n",
    "{\"Name\": 'la Prosperitat', \"latitude\": 41.4423335, \"Longitude\": 2.1794381},\n",
    "{\"Name\": 'la Trinitat Nova', \"latitude\": 41.4494828, \"Longitude\": 2.1841624},\n",
    "{\"Name\": 'Torre Baró', \"latitude\": 41.4580108, \"Longitude\": 2.1839863},\n",
    "{\"Name\": 'Ciutat Meridiana', \"latitude\": 41.4609185, \"Longitude\": 2.1745668},\n",
    "{\"Name\": 'Vallbona', \"latitude\": 41.4624415, \"Longitude\": 2.1749221},\n",
    "{\"Name\": 'la Trinitat Vella', \"latitude\": 41.4491496, \"Longitude\": 2.1933756},\n",
    "{\"Name\": 'Baró de Viver', \"latitude\": 41.4499467, \"Longitude\": 2.1995389},\n",
    "{\"Name\": 'el Bon Pastor', \"latitude\": 41.4361096, \"Longitude\": 2.2048066},\n",
    "{\"Name\": 'Sant Andreu', \"latitude\": 41.43743905, \"Longitude\": 2.19685944974823},\n",
    "{\"Name\": 'la Sagrera', \"latitude\": 41.4237499, \"Longitude\": 2.189582},\n",
    "{\"Name\": 'el Congrés i els Indians', \"latitude\": 41.423784, \"Longitude\": 2.18082161203875},\n",
    "{\"Name\": 'Navas', \"latitude\": 41.416185, \"Longitude\": 2.1849284},\n",
    "{\"Name\": \"el Camp de l'Arpa del Clot\", \"latitude\": \t41.4107542, \"Longitude\": 2.1828156},\n",
    "{\"Name\": 'el Clot', \"latitude\": 41.4101394, \"Longitude\": 2.1869158},\n",
    "{\"Name\": 'el Parc i la Llacuna del Poblenou', \"latitude\": 41.4007334, \"Longitude\": 2.191342},\n",
    "{\"Name\": 'la Vila Olímpica del Poblenou', \"latitude\": 41.3898682, \"Longitude\": 2.1968459},\n",
    "{\"Name\": 'el Poblenou', \"latitude\": 41.400527, \"Longitude\": 2.2017292},\n",
    "{\"Name\": 'Diagonal Mar i el Front Marítim del Poblenou', \"latitude\": 41.4052285, \"Longitude\": 2.2133522},\n",
    "{\"Name\": 'el Besòs i el Maresme', \"latitude\": 41.4149787, \"Longitude\": 2.2138765},\n",
    "{\"Name\": 'Provençals del Poblenou', \"latitude\": 41.4119484, \"Longitude\": 2.2041249},\n",
    "{\"Name\": 'Sant Martí de Provençals', \"latitude\": 41.4165186, \"Longitude\": 2.1989683},\n",
    "{\"Name\": 'la Verneda i la Pau', \"latitude\": 41.4232198, \"Longitude\": 2.20294015204582}\n",
    "\n",
    "]"
   ]
  }
 ],
 "metadata": {
  "kernelspec": {
   "display_name": "barcelona_dashboard",
   "language": "python",
   "name": "python3"
  },
  "language_info": {
   "codemirror_mode": {
    "name": "ipython",
    "version": 3
   },
   "file_extension": ".py",
   "mimetype": "text/x-python",
   "name": "python",
   "nbconvert_exporter": "python",
   "pygments_lexer": "ipython3",
   "version": "3.10.9"
  },
  "orig_nbformat": 4,
  "vscode": {
   "interpreter": {
    "hash": "b947286ba3d15da99ec29fd167380bf9ad51e228815d9dbd50cb9039a6b21789"
   }
  }
 },
 "nbformat": 4,
 "nbformat_minor": 2
}
